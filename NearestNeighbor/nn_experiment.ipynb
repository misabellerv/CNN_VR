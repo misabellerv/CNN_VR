{
 "cells": [
  {
   "attachments": {},
   "cell_type": "markdown",
   "metadata": {},
   "source": [
    "## Nearest Neighbor experiment"
   ]
  },
  {
   "attachments": {},
   "cell_type": "markdown",
   "metadata": {},
   "source": [
    "Simple experiment with just training and test data (no cross-validation)"
   ]
  },
  {
   "cell_type": "code",
   "execution_count": 1,
   "metadata": {},
   "outputs": [],
   "source": [
    "import numpy as np\n",
    "import tarfile\n",
    "import pickle\n",
    "import tensorflow as tf\n",
    "from NearestNeighbor import NearestNeighbor\n",
    "import time"
   ]
  },
  {
   "attachments": {},
   "cell_type": "markdown",
   "metadata": {},
   "source": [
    "import CIFAR-10 dataset and divide it into training and test: I'll be using tensorflow==2.20 API.\n",
    "\n",
    "I'm not using GPU config from tf because we won't be using tf for neural networks, just to use the main API"
   ]
  },
  {
   "cell_type": "code",
   "execution_count": 2,
   "metadata": {},
   "outputs": [
    {
     "name": "stdout",
     "output_type": "stream",
     "text": [
      "x_train shape: (50000, 32, 32, 3)\n",
      "y_train shape: (50000, 1)\n",
      "x_test shape: (10000, 32, 32, 3)\n",
      "y_test shape: (10000, 1)\n"
     ]
    }
   ],
   "source": [
    "cifar10 = tf.keras.datasets.cifar10\n",
    "(Xtr, Ytr), (Xte, Yte) = cifar10.load_data()\n",
    "\n",
    "print(f'x_train shape: {Xtr.shape}')\n",
    "print(f'y_train shape: {Ytr.shape}')\n",
    "print(f'x_test shape: {Xte.shape}')\n",
    "print(f'y_test shape: {Yte.shape}')"
   ]
  },
  {
   "cell_type": "code",
   "execution_count": 3,
   "metadata": {},
   "outputs": [
    {
     "name": "stdout",
     "output_type": "stream",
     "text": [
      "x_train flatten shape: (50000, 3072)\n",
      "x_test flatten shape: (10000, 3072)\n"
     ]
    }
   ],
   "source": [
    "# flatten images to be one-dimensional\n",
    "Xtr = Xtr.reshape(Xtr.shape[0], 32 * 32 * 3)\n",
    "Xte = Xte.reshape(Xte.shape[0], 32 * 32 * 3) \n",
    "\n",
    "print(f'x_train flatten shape: {Xtr.shape}')\n",
    "print(f'x_test flatten shape: {Xte.shape}')"
   ]
  },
  {
   "cell_type": "code",
   "execution_count": 4,
   "metadata": {},
   "outputs": [
    {
     "name": "stdout",
     "output_type": "stream",
     "text": [
      "accuracy Nearest Neighbor: 0.1\n",
      "Execution time of Nearest Neighbor: 1972.184007883072s\n"
     ]
    }
   ],
   "source": [
    "# call NearestNeighbor() from NearestNeighbor code\n",
    "# now we havbe our training and test set, such as the labels\n",
    "start_time = time.time()\n",
    "nn = NearestNeighbor() \n",
    "nn.train(Xtr, Ytr, dist='l2') \n",
    "Yte_predict = nn.predict(Xte) \n",
    "\n",
    "acc = np.mean(Yte_predict == Yte)\n",
    "end_time = time.time()\n",
    "execution_time = end_time - start_time\n",
    "print(f'accuracy Nearest Neighbor: {acc}')\n",
    "print(f'Execution time of Nearest Neighbor: {execution_time}s')"
   ]
  },
  {
   "attachments": {},
   "cell_type": "markdown",
   "metadata": {},
   "source": [
    "We can see that the accuracy is very low and it took around 30m to test. Training can be expensive, but testing must be fast so we can implement it on any devices. NN is not a good choice for images! "
   ]
  },
  {
   "attachments": {},
   "cell_type": "markdown",
   "metadata": {},
   "source": [
    "let's try it with l2 distance (euclidian)\n",
    "\n",
    "$d_{1}(I_{1}, I_{2}) = \\sum_{p}^{} |I^{p}_{1} - I^{p}_{2}| = l_{1}$\n",
    "\n",
    "$d_{2}(I_{1}, I_{2}) = \\sqrt{\\sum_{p}^{}(I^{p}_{1} - I^{p}_{2})^{2}} = l_{2}$"
   ]
  },
  {
   "cell_type": "code",
   "execution_count": 5,
   "metadata": {},
   "outputs": [
    {
     "name": "stdout",
     "output_type": "stream",
     "text": [
      "accuracy Nearest Neighbor with l1 distance: 0.1\n",
      "Execution time of Nearest Neighbor: 1881.576533794403s\n"
     ]
    }
   ],
   "source": [
    "start_time = time.time()\n",
    "nn = NearestNeighbor() \n",
    "dist = 'l1'\n",
    "nn.train(Xtr, Ytr, dist=dist) \n",
    "Yte_predict = nn.predict(Xte) \n",
    "\n",
    "acc = np.mean(Yte_predict == Yte)\n",
    "end_time = time.time()\n",
    "execution_time = end_time - start_time\n",
    "print(f'accuracy Nearest Neighbor with {dist} distance: {acc}')\n",
    "print(f'Execution time of Nearest Neighbor: {execution_time}s')"
   ]
  }
 ],
 "metadata": {
  "kernelspec": {
   "display_name": "cvstanford",
   "language": "python",
   "name": "python3"
  },
  "language_info": {
   "codemirror_mode": {
    "name": "ipython",
    "version": 3
   },
   "file_extension": ".py",
   "mimetype": "text/x-python",
   "name": "python",
   "nbconvert_exporter": "python",
   "pygments_lexer": "ipython3",
   "version": "3.11.3"
  },
  "orig_nbformat": 4
 },
 "nbformat": 4,
 "nbformat_minor": 2
}
